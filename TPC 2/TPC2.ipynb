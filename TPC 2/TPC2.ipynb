{
 "cells": [
  {
   "cell_type": "markdown",
   "metadata": {},
   "source": [
    "### TPC2: Adivinha o número\n",
    "- Crie um programa em Python para jogar o jogo \"Adivinha o número\":\n",
    "    - O jogo pode ter 2 modalidades: computador pensa num número (entre 0 e 100), utilizador tenta adivinhar; ou, o utilizador pensa num número (entre 0 e 100) e o computador tenta adivinhar;\n",
    "    - Quem tenta adivinhar responde com uma das afirmações: \"Acertou\", \"O número que pensei é Maior\" ou \"O número que pensei é Menor\";\n",
    "    - Uma vez descoberto o número o programa deverá terminar imprimindo o número de tentativas que quem adivinhou usou para chegar ao resultado."
   ]
  },
  {
   "cell_type": "code",
   "execution_count": 1,
   "metadata": {},
   "outputs": [
    {
     "name": "stdout",
     "output_type": "stream",
     "text": [
      "Parabéns, adivinhou o número em 7 tentativas.\n"
     ]
    }
   ],
   "source": [
    "modo=int(input(\"Selecione o modo de jogo. Quer adivinhar o número que eu escolho (1), ou quer que eu adivinhe o número em que está a pensar (2)?\"))\n",
    "\n",
    "if modo==1:\n",
    "    import random\n",
    "    n = random.randrange(1,100)\n",
    "    tentativas=1\n",
    "    palpite = int(input(\"Diga a primeira tentativa.\"))\n",
    "    while n!= palpite:\n",
    "        if palpite < n:\n",
    "            palpite = int(input(\"O número que pensei é maior.\"))\n",
    "            tentativas=tentativas+1\n",
    "        elif palpite > n:\n",
    "            palpite = int(input(\"O número que pensei é menor.\"))\n",
    "            tentativas=tentativas+1\n",
    "    print(f\"Parabéns, adivinhou o número em {tentativas} tentativas.\")\n",
    "\n",
    "else:\n",
    "    import random\n",
    "    minimo=1\n",
    "    maximo=100\n",
    "    print(\"Pense num número entre 0 e 100\")\n",
    "    numero=random.randrange(1,100)\n",
    "    print(numero)\n",
    "    tentativas=1\n",
    "    resultado=0\n",
    "    while resultado != 3:\n",
    "        resultado=int(input(\"Este número é muito grande(1), muito pequeno (2), ou correto (3)?\"))\n",
    "        if resultado==2:\n",
    "            if numero>minimo:\n",
    "                 minimo=numero+1\n",
    "            numero=random.randint(minimo,maximo)\n",
    "            print(numero)\n",
    "        if resultado==1:\n",
    "            if numero<maximo:\n",
    "                 maximo=numero-1\n",
    "            numero=random.randint(minimo,maximo)\n",
    "            print(numero)\n",
    "        tentativas=tentativas+1\n",
    "    print(f\"Já está! Acertei em {tentativas} tentativas.\")\n"
   ]
  }
 ],
 "metadata": {
  "kernelspec": {
   "display_name": "Python 3",
   "language": "python",
   "name": "python3"
  },
  "language_info": {
   "codemirror_mode": {
    "name": "ipython",
    "version": 3
   },
   "file_extension": ".py",
   "mimetype": "text/x-python",
   "name": "python",
   "nbconvert_exporter": "python",
   "pygments_lexer": "ipython3",
   "version": "3.11.5"
  },
  "orig_nbformat": 4
 },
 "nbformat": 4,
 "nbformat_minor": 2
}
