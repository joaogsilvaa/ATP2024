{
 "cells": [
  {
   "cell_type": "markdown",
   "metadata": {},
   "source": [
    "## TPC3: Jogo dos 21 fósforos\n",
    "\n",
    "Desenvolve em Python o código necessário para o jogo dos 21 fósforos: \n",
    "\n",
    "### O jogo\n",
    "\n",
    "* No início do jogo, há 21 fósforos;\n",
    "* Cada jogador (computador ou utilizador), pode tirar 1, 2, 3 ou 4 fósforos quando for a sua vez de jogar;\n",
    "* Os jogadores jogam alternadamente;\n",
    "* **Quem tirar o último fósforo perde!**\n",
    "\n",
    "### O programa \n",
    "\n",
    "* O jogo deverá ter dois modos: o jogador joga em primeiro lugar e o computador começa a jogar em segundo lugar e, no segundo modo, o computador começa em primeiro; \n",
    "* Quando o computador começa a jogar em segundo lugar, deve ganhar sempre o jogo;\n",
    "* Quando o computador começa a jogar em primeiro lugar, se o utilizador cometer um erro de cálculo, o computador deverá passar para a posição de vencedor e ganhar o jogo."
   ]
  },
  {
   "cell_type": "code",
   "execution_count": null,
   "metadata": {},
   "outputs": [],
   "source": [
    "def tirar_fosforos(fosforos, jogador):\n",
    "    if jogador == \"Jogador\":\n",
    "        while True:\n",
    "                tiro = int(input(\"Quantos fósforos você deseja tirar (1 a 4)? \"))\n",
    "                if 1 <= tiro <= 4 and tiro <= fosforos:\n",
    "                    return tiro\n",
    "                else:\n",
    "                    print(\"Você deve tirar entre 1 e 4 fósforos e não pode tirar mais do que os que restam.\")\n",
    "    else:\n",
    "        # Computador tenta garantir a vitória\n",
    "        tiro = (fosforos - 1) % 5 or 1\n",
    "        print(f\"Computador tira {tiro} fósforos.\")\n",
    "        return tiro\n",
    "\n",
    "def jogo(faz_computador_primeiro):\n",
    "    fosforos = 21\n",
    "    jogador = \"Jogador\" if not faz_computador_primeiro else \"Computador\"\n",
    "\n",
    "    while fosforos > 0:\n",
    "        print(f\"\\nFósforos restantes: {fosforos}\")\n",
    "        tiro = tirar_fosforos(fosforos, jogador)\n",
    "        fosforos -= tiro\n",
    "\n",
    "        if fosforos == 0:\n",
    "            print(f\"{jogador} tirou o último fósforo e perdeu!\")\n",
    "            break\n",
    "\n",
    "        # Troca de jogador\n",
    "        jogador = \"Computador\" if jogador == \"Jogador\" else \"Jogador\"\n",
    "\n",
    "def main():\n",
    "    print(\"Bem-vindo ao Jogo dos 21 Fósforos!\")\n",
    "    escolha = input(\"Escolha o modo de jogo:\\n1 - Você começa primeiro\\n2 - Computador começa primeiro\\nEscolha (1 ou 2): \")\n",
    "\n",
    "    if escolha == '1':\n",
    "        jogo(faz_computador_primeiro=False)\n",
    "    elif escolha == '2':\n",
    "        jogo(faz_computador_primeiro=True)\n",
    "    else:\n",
    "        print(\"Escolha inválida.\")\n",
    "\n",
    "if __name__ == \"__main__\":\n",
    "    main()"
   ]
  }
 ],
 "metadata": {
  "kernelspec": {
   "display_name": "Python 3",
   "language": "python",
   "name": "python3"
  },
  "language_info": {
   "name": "python",
   "version": "3.11.5"
  }
 },
 "nbformat": 4,
 "nbformat_minor": 2
}
